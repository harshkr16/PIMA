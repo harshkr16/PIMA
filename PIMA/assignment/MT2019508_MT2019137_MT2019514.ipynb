{
 "cells": [
  {
   "cell_type": "markdown",
   "metadata": {},
   "source": [
    "#  Importing the data "
   ]
  },
  {
   "cell_type": "code",
   "execution_count": 1,
   "metadata": {},
   "outputs": [
    {
     "data": {
      "text/html": [
       "<div>\n",
       "<style scoped>\n",
       "    .dataframe tbody tr th:only-of-type {\n",
       "        vertical-align: middle;\n",
       "    }\n",
       "\n",
       "    .dataframe tbody tr th {\n",
       "        vertical-align: top;\n",
       "    }\n",
       "\n",
       "    .dataframe thead th {\n",
       "        text-align: right;\n",
       "    }\n",
       "</style>\n",
       "<table border=\"1\" class=\"dataframe\">\n",
       "  <thead>\n",
       "    <tr style=\"text-align: right;\">\n",
       "      <th></th>\n",
       "      <th>Pregnancies</th>\n",
       "      <th>Glucose</th>\n",
       "      <th>BloodPressure</th>\n",
       "      <th>SkinThickness</th>\n",
       "      <th>Insulin</th>\n",
       "      <th>BMI</th>\n",
       "      <th>DiabetesPedigreeFunction</th>\n",
       "      <th>Age</th>\n",
       "      <th>Outcome</th>\n",
       "    </tr>\n",
       "  </thead>\n",
       "  <tbody>\n",
       "    <tr>\n",
       "      <td>0</td>\n",
       "      <td>6.0</td>\n",
       "      <td>148.0</td>\n",
       "      <td>72.0</td>\n",
       "      <td>35.0</td>\n",
       "      <td>0.0</td>\n",
       "      <td>33.600000</td>\n",
       "      <td>0.627</td>\n",
       "      <td>50.0</td>\n",
       "      <td>1</td>\n",
       "    </tr>\n",
       "    <tr>\n",
       "      <td>1</td>\n",
       "      <td>1.0</td>\n",
       "      <td>85.0</td>\n",
       "      <td>66.0</td>\n",
       "      <td>29.0</td>\n",
       "      <td>0.0</td>\n",
       "      <td>26.600000</td>\n",
       "      <td>0.351</td>\n",
       "      <td>31.0</td>\n",
       "      <td>0</td>\n",
       "    </tr>\n",
       "    <tr>\n",
       "      <td>2</td>\n",
       "      <td>8.0</td>\n",
       "      <td>183.0</td>\n",
       "      <td>64.0</td>\n",
       "      <td>0.0</td>\n",
       "      <td>0.0</td>\n",
       "      <td>23.300000</td>\n",
       "      <td>0.672</td>\n",
       "      <td>32.0</td>\n",
       "      <td>1</td>\n",
       "    </tr>\n",
       "    <tr>\n",
       "      <td>3</td>\n",
       "      <td>1.0</td>\n",
       "      <td>89.0</td>\n",
       "      <td>66.0</td>\n",
       "      <td>23.0</td>\n",
       "      <td>94.0</td>\n",
       "      <td>19.179925</td>\n",
       "      <td>0.167</td>\n",
       "      <td>21.0</td>\n",
       "      <td>0</td>\n",
       "    </tr>\n",
       "    <tr>\n",
       "      <td>4</td>\n",
       "      <td>0.0</td>\n",
       "      <td>137.0</td>\n",
       "      <td>40.0</td>\n",
       "      <td>35.0</td>\n",
       "      <td>168.0</td>\n",
       "      <td>43.100000</td>\n",
       "      <td>2.288</td>\n",
       "      <td>33.0</td>\n",
       "      <td>1</td>\n",
       "    </tr>\n",
       "  </tbody>\n",
       "</table>\n",
       "</div>"
      ],
      "text/plain": [
       "   Pregnancies  Glucose  BloodPressure  SkinThickness  Insulin        BMI  \\\n",
       "0          6.0    148.0           72.0           35.0      0.0  33.600000   \n",
       "1          1.0     85.0           66.0           29.0      0.0  26.600000   \n",
       "2          8.0    183.0           64.0            0.0      0.0  23.300000   \n",
       "3          1.0     89.0           66.0           23.0     94.0  19.179925   \n",
       "4          0.0    137.0           40.0           35.0    168.0  43.100000   \n",
       "\n",
       "   DiabetesPedigreeFunction   Age  Outcome  \n",
       "0                     0.627  50.0        1  \n",
       "1                     0.351  31.0        0  \n",
       "2                     0.672  32.0        1  \n",
       "3                     0.167  21.0        0  \n",
       "4                     2.288  33.0        1  "
      ]
     },
     "execution_count": 1,
     "metadata": {},
     "output_type": "execute_result"
    }
   ],
   "source": [
    "import pandas as pd\n",
    "import matplotlib.pyplot as plt\n",
    "import numpy as np\n",
    "from sklearn.model_selection import train_test_split\n",
    "import random\n",
    "from sklearn.feature_selection import RFE\n",
    "hel_data=pd.read_csv(\"Pima_Indian_diabetes.csv\")\n",
    "hel_data.head()"
   ]
  },
  {
   "cell_type": "code",
   "execution_count": 2,
   "metadata": {},
   "outputs": [
    {
     "data": {
      "text/plain": [
       "Pregnancies                 26\n",
       "Glucose                     16\n",
       "BloodPressure                0\n",
       "SkinThickness               22\n",
       "Insulin                      0\n",
       "BMI                         11\n",
       "DiabetesPedigreeFunction     0\n",
       "Age                         19\n",
       "Outcome                      0\n",
       "dtype: int64"
      ]
     },
     "execution_count": 2,
     "metadata": {},
     "output_type": "execute_result"
    }
   ],
   "source": [
    "hel_data.isnull().sum()"
   ]
  },
  {
   "cell_type": "code",
   "execution_count": 3,
   "metadata": {},
   "outputs": [],
   "source": [
    "hel_data.dropna(axis = 0, inplace= True)"
   ]
  },
  {
   "cell_type": "markdown",
   "metadata": {},
   "source": [
    "\n",
    "# Getting some insights"
   ]
  },
  {
   "cell_type": "code",
   "execution_count": 4,
   "metadata": {},
   "outputs": [
    {
     "data": {
      "text/html": [
       "<div>\n",
       "<style scoped>\n",
       "    .dataframe tbody tr th:only-of-type {\n",
       "        vertical-align: middle;\n",
       "    }\n",
       "\n",
       "    .dataframe tbody tr th {\n",
       "        vertical-align: top;\n",
       "    }\n",
       "\n",
       "    .dataframe thead th {\n",
       "        text-align: right;\n",
       "    }\n",
       "</style>\n",
       "<table border=\"1\" class=\"dataframe\">\n",
       "  <thead>\n",
       "    <tr style=\"text-align: right;\">\n",
       "      <th></th>\n",
       "      <th>Pregnancies</th>\n",
       "      <th>Glucose</th>\n",
       "      <th>BloodPressure</th>\n",
       "      <th>SkinThickness</th>\n",
       "      <th>Insulin</th>\n",
       "      <th>BMI</th>\n",
       "      <th>DiabetesPedigreeFunction</th>\n",
       "      <th>Age</th>\n",
       "      <th>Outcome</th>\n",
       "    </tr>\n",
       "  </thead>\n",
       "  <tbody>\n",
       "    <tr>\n",
       "      <td>count</td>\n",
       "      <td>676.000000</td>\n",
       "      <td>676.000000</td>\n",
       "      <td>676.000000</td>\n",
       "      <td>676.000000</td>\n",
       "      <td>676.000000</td>\n",
       "      <td>676.000000</td>\n",
       "      <td>676.000000</td>\n",
       "      <td>676.000000</td>\n",
       "      <td>676.000000</td>\n",
       "    </tr>\n",
       "    <tr>\n",
       "      <td>mean</td>\n",
       "      <td>3.816722</td>\n",
       "      <td>119.905014</td>\n",
       "      <td>68.605819</td>\n",
       "      <td>20.111729</td>\n",
       "      <td>78.359467</td>\n",
       "      <td>31.703168</td>\n",
       "      <td>0.469499</td>\n",
       "      <td>33.423353</td>\n",
       "      <td>0.346154</td>\n",
       "    </tr>\n",
       "    <tr>\n",
       "      <td>std</td>\n",
       "      <td>3.409403</td>\n",
       "      <td>32.409446</td>\n",
       "      <td>19.449625</td>\n",
       "      <td>15.923286</td>\n",
       "      <td>115.326420</td>\n",
       "      <td>8.471361</td>\n",
       "      <td>0.337760</td>\n",
       "      <td>11.819330</td>\n",
       "      <td>0.476095</td>\n",
       "    </tr>\n",
       "    <tr>\n",
       "      <td>min</td>\n",
       "      <td>-4.798118</td>\n",
       "      <td>0.000000</td>\n",
       "      <td>-3.496455</td>\n",
       "      <td>-11.945520</td>\n",
       "      <td>0.000000</td>\n",
       "      <td>-16.288921</td>\n",
       "      <td>0.078000</td>\n",
       "      <td>21.000000</td>\n",
       "      <td>0.000000</td>\n",
       "    </tr>\n",
       "    <tr>\n",
       "      <td>25%</td>\n",
       "      <td>1.000000</td>\n",
       "      <td>99.000000</td>\n",
       "      <td>62.000000</td>\n",
       "      <td>0.000000</td>\n",
       "      <td>0.000000</td>\n",
       "      <td>27.100000</td>\n",
       "      <td>0.239750</td>\n",
       "      <td>24.000000</td>\n",
       "      <td>0.000000</td>\n",
       "    </tr>\n",
       "    <tr>\n",
       "      <td>50%</td>\n",
       "      <td>3.000000</td>\n",
       "      <td>117.000000</td>\n",
       "      <td>72.000000</td>\n",
       "      <td>22.000000</td>\n",
       "      <td>20.000000</td>\n",
       "      <td>32.000000</td>\n",
       "      <td>0.364000</td>\n",
       "      <td>29.000000</td>\n",
       "      <td>0.000000</td>\n",
       "    </tr>\n",
       "    <tr>\n",
       "      <td>75%</td>\n",
       "      <td>6.000000</td>\n",
       "      <td>140.000000</td>\n",
       "      <td>80.000000</td>\n",
       "      <td>32.000000</td>\n",
       "      <td>126.000000</td>\n",
       "      <td>36.500000</td>\n",
       "      <td>0.612250</td>\n",
       "      <td>41.000000</td>\n",
       "      <td>1.000000</td>\n",
       "    </tr>\n",
       "    <tr>\n",
       "      <td>max</td>\n",
       "      <td>16.047327</td>\n",
       "      <td>199.000000</td>\n",
       "      <td>110.000000</td>\n",
       "      <td>99.000000</td>\n",
       "      <td>846.000000</td>\n",
       "      <td>67.100000</td>\n",
       "      <td>2.420000</td>\n",
       "      <td>72.000000</td>\n",
       "      <td>1.000000</td>\n",
       "    </tr>\n",
       "  </tbody>\n",
       "</table>\n",
       "</div>"
      ],
      "text/plain": [
       "       Pregnancies     Glucose  BloodPressure  SkinThickness     Insulin  \\\n",
       "count   676.000000  676.000000     676.000000     676.000000  676.000000   \n",
       "mean      3.816722  119.905014      68.605819      20.111729   78.359467   \n",
       "std       3.409403   32.409446      19.449625      15.923286  115.326420   \n",
       "min      -4.798118    0.000000      -3.496455     -11.945520    0.000000   \n",
       "25%       1.000000   99.000000      62.000000       0.000000    0.000000   \n",
       "50%       3.000000  117.000000      72.000000      22.000000   20.000000   \n",
       "75%       6.000000  140.000000      80.000000      32.000000  126.000000   \n",
       "max      16.047327  199.000000     110.000000      99.000000  846.000000   \n",
       "\n",
       "              BMI  DiabetesPedigreeFunction         Age     Outcome  \n",
       "count  676.000000                676.000000  676.000000  676.000000  \n",
       "mean    31.703168                  0.469499   33.423353    0.346154  \n",
       "std      8.471361                  0.337760   11.819330    0.476095  \n",
       "min    -16.288921                  0.078000   21.000000    0.000000  \n",
       "25%     27.100000                  0.239750   24.000000    0.000000  \n",
       "50%     32.000000                  0.364000   29.000000    0.000000  \n",
       "75%     36.500000                  0.612250   41.000000    1.000000  \n",
       "max     67.100000                  2.420000   72.000000    1.000000  "
      ]
     },
     "execution_count": 4,
     "metadata": {},
     "output_type": "execute_result"
    }
   ],
   "source": [
    "hel_data.describe()"
   ]
  },
  {
   "cell_type": "code",
   "execution_count": 5,
   "metadata": {
    "scrolled": true
   },
   "outputs": [
    {
     "data": {
      "text/html": [
       "<style  type=\"text/css\" >\n",
       "    #T_f7c69a92_0ee2_11ea_ba55_e372d8f615bbrow0_col0 {\n",
       "            background-color:  #b40426;\n",
       "            color:  #f1f1f1;\n",
       "        }    #T_f7c69a92_0ee2_11ea_ba55_e372d8f615bbrow0_col1 {\n",
       "            background-color:  #4358cb;\n",
       "            color:  #f1f1f1;\n",
       "        }    #T_f7c69a92_0ee2_11ea_ba55_e372d8f615bbrow0_col2 {\n",
       "            background-color:  #4a63d3;\n",
       "            color:  #f1f1f1;\n",
       "        }    #T_f7c69a92_0ee2_11ea_ba55_e372d8f615bbrow0_col3 {\n",
       "            background-color:  #4358cb;\n",
       "            color:  #f1f1f1;\n",
       "        }    #T_f7c69a92_0ee2_11ea_ba55_e372d8f615bbrow0_col4 {\n",
       "            background-color:  #3b4cc0;\n",
       "            color:  #f1f1f1;\n",
       "        }    #T_f7c69a92_0ee2_11ea_ba55_e372d8f615bbrow0_col5 {\n",
       "            background-color:  #3b4cc0;\n",
       "            color:  #f1f1f1;\n",
       "        }    #T_f7c69a92_0ee2_11ea_ba55_e372d8f615bbrow0_col6 {\n",
       "            background-color:  #3b4cc0;\n",
       "            color:  #f1f1f1;\n",
       "        }    #T_f7c69a92_0ee2_11ea_ba55_e372d8f615bbrow0_col7 {\n",
       "            background-color:  #e5d8d1;\n",
       "            color:  #000000;\n",
       "        }    #T_f7c69a92_0ee2_11ea_ba55_e372d8f615bbrow0_col8 {\n",
       "            background-color:  #6180e9;\n",
       "            color:  #000000;\n",
       "        }    #T_f7c69a92_0ee2_11ea_ba55_e372d8f615bbrow1_col0 {\n",
       "            background-color:  #7396f5;\n",
       "            color:  #000000;\n",
       "        }    #T_f7c69a92_0ee2_11ea_ba55_e372d8f615bbrow1_col1 {\n",
       "            background-color:  #b40426;\n",
       "            color:  #f1f1f1;\n",
       "        }    #T_f7c69a92_0ee2_11ea_ba55_e372d8f615bbrow1_col2 {\n",
       "            background-color:  #5977e3;\n",
       "            color:  #000000;\n",
       "        }    #T_f7c69a92_0ee2_11ea_ba55_e372d8f615bbrow1_col3 {\n",
       "            background-color:  #7093f3;\n",
       "            color:  #000000;\n",
       "        }    #T_f7c69a92_0ee2_11ea_ba55_e372d8f615bbrow1_col4 {\n",
       "            background-color:  #bed2f6;\n",
       "            color:  #000000;\n",
       "        }    #T_f7c69a92_0ee2_11ea_ba55_e372d8f615bbrow1_col5 {\n",
       "            background-color:  #799cf8;\n",
       "            color:  #000000;\n",
       "        }    #T_f7c69a92_0ee2_11ea_ba55_e372d8f615bbrow1_col6 {\n",
       "            background-color:  #7597f6;\n",
       "            color:  #000000;\n",
       "        }    #T_f7c69a92_0ee2_11ea_ba55_e372d8f615bbrow1_col7 {\n",
       "            background-color:  #aec9fc;\n",
       "            color:  #000000;\n",
       "        }    #T_f7c69a92_0ee2_11ea_ba55_e372d8f615bbrow1_col8 {\n",
       "            background-color:  #c5d6f2;\n",
       "            color:  #000000;\n",
       "        }    #T_f7c69a92_0ee2_11ea_ba55_e372d8f615bbrow2_col0 {\n",
       "            background-color:  #7a9df8;\n",
       "            color:  #000000;\n",
       "        }    #T_f7c69a92_0ee2_11ea_ba55_e372d8f615bbrow2_col1 {\n",
       "            background-color:  #5875e1;\n",
       "            color:  #000000;\n",
       "        }    #T_f7c69a92_0ee2_11ea_ba55_e372d8f615bbrow2_col2 {\n",
       "            background-color:  #b40426;\n",
       "            color:  #f1f1f1;\n",
       "        }    #T_f7c69a92_0ee2_11ea_ba55_e372d8f615bbrow2_col3 {\n",
       "            background-color:  #a3c2fe;\n",
       "            color:  #000000;\n",
       "        }    #T_f7c69a92_0ee2_11ea_ba55_e372d8f615bbrow2_col4 {\n",
       "            background-color:  #7699f6;\n",
       "            color:  #000000;\n",
       "        }    #T_f7c69a92_0ee2_11ea_ba55_e372d8f615bbrow2_col5 {\n",
       "            background-color:  #a2c1ff;\n",
       "            color:  #000000;\n",
       "        }    #T_f7c69a92_0ee2_11ea_ba55_e372d8f615bbrow2_col6 {\n",
       "            background-color:  #5f7fe8;\n",
       "            color:  #000000;\n",
       "        }    #T_f7c69a92_0ee2_11ea_ba55_e372d8f615bbrow2_col7 {\n",
       "            background-color:  #a5c3fe;\n",
       "            color:  #000000;\n",
       "        }    #T_f7c69a92_0ee2_11ea_ba55_e372d8f615bbrow2_col8 {\n",
       "            background-color:  #3b4cc0;\n",
       "            color:  #f1f1f1;\n",
       "        }    #T_f7c69a92_0ee2_11ea_ba55_e372d8f615bbrow3_col0 {\n",
       "            background-color:  #3d50c3;\n",
       "            color:  #f1f1f1;\n",
       "        }    #T_f7c69a92_0ee2_11ea_ba55_e372d8f615bbrow3_col1 {\n",
       "            background-color:  #3b4cc0;\n",
       "            color:  #f1f1f1;\n",
       "        }    #T_f7c69a92_0ee2_11ea_ba55_e372d8f615bbrow3_col2 {\n",
       "            background-color:  #7396f5;\n",
       "            color:  #000000;\n",
       "        }    #T_f7c69a92_0ee2_11ea_ba55_e372d8f615bbrow3_col3 {\n",
       "            background-color:  #b40426;\n",
       "            color:  #f1f1f1;\n",
       "        }    #T_f7c69a92_0ee2_11ea_ba55_e372d8f615bbrow3_col4 {\n",
       "            background-color:  #d9dce1;\n",
       "            color:  #000000;\n",
       "        }    #T_f7c69a92_0ee2_11ea_ba55_e372d8f615bbrow3_col5 {\n",
       "            background-color:  #bad0f8;\n",
       "            color:  #000000;\n",
       "        }    #T_f7c69a92_0ee2_11ea_ba55_e372d8f615bbrow3_col6 {\n",
       "            background-color:  #86a9fc;\n",
       "            color:  #000000;\n",
       "        }    #T_f7c69a92_0ee2_11ea_ba55_e372d8f615bbrow3_col7 {\n",
       "            background-color:  #3b4cc0;\n",
       "            color:  #f1f1f1;\n",
       "        }    #T_f7c69a92_0ee2_11ea_ba55_e372d8f615bbrow3_col8 {\n",
       "            background-color:  #4358cb;\n",
       "            color:  #f1f1f1;\n",
       "        }    #T_f7c69a92_0ee2_11ea_ba55_e372d8f615bbrow4_col0 {\n",
       "            background-color:  #3b4cc0;\n",
       "            color:  #f1f1f1;\n",
       "        }    #T_f7c69a92_0ee2_11ea_ba55_e372d8f615bbrow4_col1 {\n",
       "            background-color:  #98b9ff;\n",
       "            color:  #000000;\n",
       "        }    #T_f7c69a92_0ee2_11ea_ba55_e372d8f615bbrow4_col2 {\n",
       "            background-color:  #485fd1;\n",
       "            color:  #f1f1f1;\n",
       "        }    #T_f7c69a92_0ee2_11ea_ba55_e372d8f615bbrow4_col3 {\n",
       "            background-color:  #dbdcde;\n",
       "            color:  #000000;\n",
       "        }    #T_f7c69a92_0ee2_11ea_ba55_e372d8f615bbrow4_col4 {\n",
       "            background-color:  #b40426;\n",
       "            color:  #f1f1f1;\n",
       "        }    #T_f7c69a92_0ee2_11ea_ba55_e372d8f615bbrow4_col5 {\n",
       "            background-color:  #7ea1fa;\n",
       "            color:  #000000;\n",
       "        }    #T_f7c69a92_0ee2_11ea_ba55_e372d8f615bbrow4_col6 {\n",
       "            background-color:  #88abfd;\n",
       "            color:  #000000;\n",
       "        }    #T_f7c69a92_0ee2_11ea_ba55_e372d8f615bbrow4_col7 {\n",
       "            background-color:  #4f69d9;\n",
       "            color:  #000000;\n",
       "        }    #T_f7c69a92_0ee2_11ea_ba55_e372d8f615bbrow4_col8 {\n",
       "            background-color:  #4f69d9;\n",
       "            color:  #000000;\n",
       "        }    #T_f7c69a92_0ee2_11ea_ba55_e372d8f615bbrow5_col0 {\n",
       "            background-color:  #536edd;\n",
       "            color:  #000000;\n",
       "        }    #T_f7c69a92_0ee2_11ea_ba55_e372d8f615bbrow5_col1 {\n",
       "            background-color:  #6180e9;\n",
       "            color:  #000000;\n",
       "        }    #T_f7c69a92_0ee2_11ea_ba55_e372d8f615bbrow5_col2 {\n",
       "            background-color:  #8fb1fe;\n",
       "            color:  #000000;\n",
       "        }    #T_f7c69a92_0ee2_11ea_ba55_e372d8f615bbrow5_col3 {\n",
       "            background-color:  #ccd9ed;\n",
       "            color:  #000000;\n",
       "        }    #T_f7c69a92_0ee2_11ea_ba55_e372d8f615bbrow5_col4 {\n",
       "            background-color:  #94b6ff;\n",
       "            color:  #000000;\n",
       "        }    #T_f7c69a92_0ee2_11ea_ba55_e372d8f615bbrow5_col5 {\n",
       "            background-color:  #b40426;\n",
       "            color:  #f1f1f1;\n",
       "        }    #T_f7c69a92_0ee2_11ea_ba55_e372d8f615bbrow5_col6 {\n",
       "            background-color:  #80a3fa;\n",
       "            color:  #000000;\n",
       "        }    #T_f7c69a92_0ee2_11ea_ba55_e372d8f615bbrow5_col7 {\n",
       "            background-color:  #6b8df0;\n",
       "            color:  #000000;\n",
       "        }    #T_f7c69a92_0ee2_11ea_ba55_e372d8f615bbrow5_col8 {\n",
       "            background-color:  #89acfd;\n",
       "            color:  #000000;\n",
       "        }    #T_f7c69a92_0ee2_11ea_ba55_e372d8f615bbrow6_col0 {\n",
       "            background-color:  #4a63d3;\n",
       "            color:  #f1f1f1;\n",
       "        }    #T_f7c69a92_0ee2_11ea_ba55_e372d8f615bbrow6_col1 {\n",
       "            background-color:  #536edd;\n",
       "            color:  #000000;\n",
       "        }    #T_f7c69a92_0ee2_11ea_ba55_e372d8f615bbrow6_col2 {\n",
       "            background-color:  #3f53c6;\n",
       "            color:  #f1f1f1;\n",
       "        }    #T_f7c69a92_0ee2_11ea_ba55_e372d8f615bbrow6_col3 {\n",
       "            background-color:  #9abbff;\n",
       "            color:  #000000;\n",
       "        }    #T_f7c69a92_0ee2_11ea_ba55_e372d8f615bbrow6_col4 {\n",
       "            background-color:  #96b7ff;\n",
       "            color:  #000000;\n",
       "        }    #T_f7c69a92_0ee2_11ea_ba55_e372d8f615bbrow6_col5 {\n",
       "            background-color:  #779af7;\n",
       "            color:  #000000;\n",
       "        }    #T_f7c69a92_0ee2_11ea_ba55_e372d8f615bbrow6_col6 {\n",
       "            background-color:  #b40426;\n",
       "            color:  #f1f1f1;\n",
       "        }    #T_f7c69a92_0ee2_11ea_ba55_e372d8f615bbrow6_col7 {\n",
       "            background-color:  #688aef;\n",
       "            color:  #000000;\n",
       "        }    #T_f7c69a92_0ee2_11ea_ba55_e372d8f615bbrow6_col8 {\n",
       "            background-color:  #6384eb;\n",
       "            color:  #000000;\n",
       "        }    #T_f7c69a92_0ee2_11ea_ba55_e372d8f615bbrow7_col0 {\n",
       "            background-color:  #e2dad5;\n",
       "            color:  #000000;\n",
       "        }    #T_f7c69a92_0ee2_11ea_ba55_e372d8f615bbrow7_col1 {\n",
       "            background-color:  #7ea1fa;\n",
       "            color:  #000000;\n",
       "        }    #T_f7c69a92_0ee2_11ea_ba55_e372d8f615bbrow7_col2 {\n",
       "            background-color:  #7597f6;\n",
       "            color:  #000000;\n",
       "        }    #T_f7c69a92_0ee2_11ea_ba55_e372d8f615bbrow7_col3 {\n",
       "            background-color:  #3b4cc0;\n",
       "            color:  #f1f1f1;\n",
       "        }    #T_f7c69a92_0ee2_11ea_ba55_e372d8f615bbrow7_col4 {\n",
       "            background-color:  #4961d2;\n",
       "            color:  #f1f1f1;\n",
       "        }    #T_f7c69a92_0ee2_11ea_ba55_e372d8f615bbrow7_col5 {\n",
       "            background-color:  #4e68d8;\n",
       "            color:  #000000;\n",
       "        }    #T_f7c69a92_0ee2_11ea_ba55_e372d8f615bbrow7_col6 {\n",
       "            background-color:  #536edd;\n",
       "            color:  #000000;\n",
       "        }    #T_f7c69a92_0ee2_11ea_ba55_e372d8f615bbrow7_col7 {\n",
       "            background-color:  #b40426;\n",
       "            color:  #f1f1f1;\n",
       "        }    #T_f7c69a92_0ee2_11ea_ba55_e372d8f615bbrow7_col8 {\n",
       "            background-color:  #6f92f3;\n",
       "            color:  #000000;\n",
       "        }    #T_f7c69a92_0ee2_11ea_ba55_e372d8f615bbrow8_col0 {\n",
       "            background-color:  #8fb1fe;\n",
       "            color:  #000000;\n",
       "        }    #T_f7c69a92_0ee2_11ea_ba55_e372d8f615bbrow8_col1 {\n",
       "            background-color:  #c4d5f3;\n",
       "            color:  #000000;\n",
       "        }    #T_f7c69a92_0ee2_11ea_ba55_e372d8f615bbrow8_col2 {\n",
       "            background-color:  #3b4cc0;\n",
       "            color:  #f1f1f1;\n",
       "        }    #T_f7c69a92_0ee2_11ea_ba55_e372d8f615bbrow8_col3 {\n",
       "            background-color:  #779af7;\n",
       "            color:  #000000;\n",
       "        }    #T_f7c69a92_0ee2_11ea_ba55_e372d8f615bbrow8_col4 {\n",
       "            background-color:  #7ea1fa;\n",
       "            color:  #000000;\n",
       "        }    #T_f7c69a92_0ee2_11ea_ba55_e372d8f615bbrow8_col5 {\n",
       "            background-color:  #9dbdff;\n",
       "            color:  #000000;\n",
       "        }    #T_f7c69a92_0ee2_11ea_ba55_e372d8f615bbrow8_col6 {\n",
       "            background-color:  #81a4fb;\n",
       "            color:  #000000;\n",
       "        }    #T_f7c69a92_0ee2_11ea_ba55_e372d8f615bbrow8_col7 {\n",
       "            background-color:  #9fbfff;\n",
       "            color:  #000000;\n",
       "        }    #T_f7c69a92_0ee2_11ea_ba55_e372d8f615bbrow8_col8 {\n",
       "            background-color:  #b40426;\n",
       "            color:  #f1f1f1;\n",
       "        }</style><table id=\"T_f7c69a92_0ee2_11ea_ba55_e372d8f615bb\" ><thead>    <tr>        <th class=\"blank level0\" ></th>        <th class=\"col_heading level0 col0\" >Pregnancies</th>        <th class=\"col_heading level0 col1\" >Glucose</th>        <th class=\"col_heading level0 col2\" >BloodPressure</th>        <th class=\"col_heading level0 col3\" >SkinThickness</th>        <th class=\"col_heading level0 col4\" >Insulin</th>        <th class=\"col_heading level0 col5\" >BMI</th>        <th class=\"col_heading level0 col6\" >DiabetesPedigreeFunction</th>        <th class=\"col_heading level0 col7\" >Age</th>        <th class=\"col_heading level0 col8\" >Outcome</th>    </tr></thead><tbody>\n",
       "                <tr>\n",
       "                        <th id=\"T_f7c69a92_0ee2_11ea_ba55_e372d8f615bblevel0_row0\" class=\"row_heading level0 row0\" >Pregnancies</th>\n",
       "                        <td id=\"T_f7c69a92_0ee2_11ea_ba55_e372d8f615bbrow0_col0\" class=\"data row0 col0\" >1</td>\n",
       "                        <td id=\"T_f7c69a92_0ee2_11ea_ba55_e372d8f615bbrow0_col1\" class=\"data row0 col1\" >0.09078</td>\n",
       "                        <td id=\"T_f7c69a92_0ee2_11ea_ba55_e372d8f615bbrow0_col2\" class=\"data row0 col2\" >0.109165</td>\n",
       "                        <td id=\"T_f7c69a92_0ee2_11ea_ba55_e372d8f615bbrow0_col3\" class=\"data row0 col3\" >-0.0963336</td>\n",
       "                        <td id=\"T_f7c69a92_0ee2_11ea_ba55_e372d8f615bbrow0_col4\" class=\"data row0 col4\" >-0.107172</td>\n",
       "                        <td id=\"T_f7c69a92_0ee2_11ea_ba55_e372d8f615bbrow0_col5\" class=\"data row0 col5\" >-0.0176203</td>\n",
       "                        <td id=\"T_f7c69a92_0ee2_11ea_ba55_e372d8f615bbrow0_col6\" class=\"data row0 col6\" >-0.0486919</td>\n",
       "                        <td id=\"T_f7c69a92_0ee2_11ea_ba55_e372d8f615bbrow0_col7\" class=\"data row0 col7\" >0.471411</td>\n",
       "                        <td id=\"T_f7c69a92_0ee2_11ea_ba55_e372d8f615bbrow0_col8\" class=\"data row0 col8\" >0.175373</td>\n",
       "            </tr>\n",
       "            <tr>\n",
       "                        <th id=\"T_f7c69a92_0ee2_11ea_ba55_e372d8f615bblevel0_row1\" class=\"row_heading level0 row1\" >Glucose</th>\n",
       "                        <td id=\"T_f7c69a92_0ee2_11ea_ba55_e372d8f615bbrow1_col0\" class=\"data row1 col0\" >0.09078</td>\n",
       "                        <td id=\"T_f7c69a92_0ee2_11ea_ba55_e372d8f615bbrow1_col1\" class=\"data row1 col1\" >1</td>\n",
       "                        <td id=\"T_f7c69a92_0ee2_11ea_ba55_e372d8f615bbrow1_col2\" class=\"data row1 col2\" >0.153401</td>\n",
       "                        <td id=\"T_f7c69a92_0ee2_11ea_ba55_e372d8f615bbrow1_col3\" class=\"data row1 col3\" >0.0640365</td>\n",
       "                        <td id=\"T_f7c69a92_0ee2_11ea_ba55_e372d8f615bbrow1_col4\" class=\"data row1 col4\" >0.329355</td>\n",
       "                        <td id=\"T_f7c69a92_0ee2_11ea_ba55_e372d8f615bbrow1_col5\" class=\"data row1 col5\" >0.179916</td>\n",
       "                        <td id=\"T_f7c69a92_0ee2_11ea_ba55_e372d8f615bbrow1_col6\" class=\"data row1 col6\" >0.140501</td>\n",
       "                        <td id=\"T_f7c69a92_0ee2_11ea_ba55_e372d8f615bbrow1_col7\" class=\"data row1 col7\" >0.260544</td>\n",
       "                        <td id=\"T_f7c69a92_0ee2_11ea_ba55_e372d8f615bbrow1_col8\" class=\"data row1 col8\" >0.45074</td>\n",
       "            </tr>\n",
       "            <tr>\n",
       "                        <th id=\"T_f7c69a92_0ee2_11ea_ba55_e372d8f615bblevel0_row2\" class=\"row_heading level0 row2\" >BloodPressure</th>\n",
       "                        <td id=\"T_f7c69a92_0ee2_11ea_ba55_e372d8f615bbrow2_col0\" class=\"data row2 col0\" >0.109165</td>\n",
       "                        <td id=\"T_f7c69a92_0ee2_11ea_ba55_e372d8f615bbrow2_col1\" class=\"data row2 col1\" >0.153401</td>\n",
       "                        <td id=\"T_f7c69a92_0ee2_11ea_ba55_e372d8f615bbrow2_col2\" class=\"data row2 col2\" >1</td>\n",
       "                        <td id=\"T_f7c69a92_0ee2_11ea_ba55_e372d8f615bbrow2_col3\" class=\"data row2 col3\" >0.225105</td>\n",
       "                        <td id=\"T_f7c69a92_0ee2_11ea_ba55_e372d8f615bbrow2_col4\" class=\"data row2 col4\" >0.0997477</td>\n",
       "                        <td id=\"T_f7c69a92_0ee2_11ea_ba55_e372d8f615bbrow2_col5\" class=\"data row2 col5\" >0.299163</td>\n",
       "                        <td id=\"T_f7c69a92_0ee2_11ea_ba55_e372d8f615bbrow2_col6\" class=\"data row2 col6\" >0.0742781</td>\n",
       "                        <td id=\"T_f7c69a92_0ee2_11ea_ba55_e372d8f615bbrow2_col7\" class=\"data row2 col7\" >0.228085</td>\n",
       "                        <td id=\"T_f7c69a92_0ee2_11ea_ba55_e372d8f615bbrow2_col8\" class=\"data row2 col8\" >0.0583633</td>\n",
       "            </tr>\n",
       "            <tr>\n",
       "                        <th id=\"T_f7c69a92_0ee2_11ea_ba55_e372d8f615bblevel0_row3\" class=\"row_heading level0 row3\" >SkinThickness</th>\n",
       "                        <td id=\"T_f7c69a92_0ee2_11ea_ba55_e372d8f615bbrow3_col0\" class=\"data row3 col0\" >-0.0963336</td>\n",
       "                        <td id=\"T_f7c69a92_0ee2_11ea_ba55_e372d8f615bbrow3_col1\" class=\"data row3 col1\" >0.0640365</td>\n",
       "                        <td id=\"T_f7c69a92_0ee2_11ea_ba55_e372d8f615bbrow3_col2\" class=\"data row3 col2\" >0.225105</td>\n",
       "                        <td id=\"T_f7c69a92_0ee2_11ea_ba55_e372d8f615bbrow3_col3\" class=\"data row3 col3\" >1</td>\n",
       "                        <td id=\"T_f7c69a92_0ee2_11ea_ba55_e372d8f615bbrow3_col4\" class=\"data row3 col4\" >0.429367</td>\n",
       "                        <td id=\"T_f7c69a92_0ee2_11ea_ba55_e372d8f615bbrow3_col5\" class=\"data row3 col5\" >0.368944</td>\n",
       "                        <td id=\"T_f7c69a92_0ee2_11ea_ba55_e372d8f615bbrow3_col6\" class=\"data row3 col6\" >0.194502</td>\n",
       "                        <td id=\"T_f7c69a92_0ee2_11ea_ba55_e372d8f615bbrow3_col7\" class=\"data row3 col7\" >-0.129722</td>\n",
       "                        <td id=\"T_f7c69a92_0ee2_11ea_ba55_e372d8f615bbrow3_col8\" class=\"data row3 col8\" >0.0847827</td>\n",
       "            </tr>\n",
       "            <tr>\n",
       "                        <th id=\"T_f7c69a92_0ee2_11ea_ba55_e372d8f615bblevel0_row4\" class=\"row_heading level0 row4\" >Insulin</th>\n",
       "                        <td id=\"T_f7c69a92_0ee2_11ea_ba55_e372d8f615bbrow4_col0\" class=\"data row4 col0\" >-0.107172</td>\n",
       "                        <td id=\"T_f7c69a92_0ee2_11ea_ba55_e372d8f615bbrow4_col1\" class=\"data row4 col1\" >0.329355</td>\n",
       "                        <td id=\"T_f7c69a92_0ee2_11ea_ba55_e372d8f615bbrow4_col2\" class=\"data row4 col2\" >0.0997477</td>\n",
       "                        <td id=\"T_f7c69a92_0ee2_11ea_ba55_e372d8f615bbrow4_col3\" class=\"data row4 col3\" >0.429367</td>\n",
       "                        <td id=\"T_f7c69a92_0ee2_11ea_ba55_e372d8f615bbrow4_col4\" class=\"data row4 col4\" >1</td>\n",
       "                        <td id=\"T_f7c69a92_0ee2_11ea_ba55_e372d8f615bbrow4_col5\" class=\"data row4 col5\" >0.195323</td>\n",
       "                        <td id=\"T_f7c69a92_0ee2_11ea_ba55_e372d8f615bbrow4_col6\" class=\"data row4 col6\" >0.198996</td>\n",
       "                        <td id=\"T_f7c69a92_0ee2_11ea_ba55_e372d8f615bbrow4_col7\" class=\"data row4 col7\" >-0.0521898</td>\n",
       "                        <td id=\"T_f7c69a92_0ee2_11ea_ba55_e372d8f615bbrow4_col8\" class=\"data row4 col8\" >0.123601</td>\n",
       "            </tr>\n",
       "            <tr>\n",
       "                        <th id=\"T_f7c69a92_0ee2_11ea_ba55_e372d8f615bblevel0_row5\" class=\"row_heading level0 row5\" >BMI</th>\n",
       "                        <td id=\"T_f7c69a92_0ee2_11ea_ba55_e372d8f615bbrow5_col0\" class=\"data row5 col0\" >-0.0176203</td>\n",
       "                        <td id=\"T_f7c69a92_0ee2_11ea_ba55_e372d8f615bbrow5_col1\" class=\"data row5 col1\" >0.179916</td>\n",
       "                        <td id=\"T_f7c69a92_0ee2_11ea_ba55_e372d8f615bbrow5_col2\" class=\"data row5 col2\" >0.299163</td>\n",
       "                        <td id=\"T_f7c69a92_0ee2_11ea_ba55_e372d8f615bbrow5_col3\" class=\"data row5 col3\" >0.368944</td>\n",
       "                        <td id=\"T_f7c69a92_0ee2_11ea_ba55_e372d8f615bbrow5_col4\" class=\"data row5 col4\" >0.195323</td>\n",
       "                        <td id=\"T_f7c69a92_0ee2_11ea_ba55_e372d8f615bbrow5_col5\" class=\"data row5 col5\" >1</td>\n",
       "                        <td id=\"T_f7c69a92_0ee2_11ea_ba55_e372d8f615bbrow5_col6\" class=\"data row5 col6\" >0.175405</td>\n",
       "                        <td id=\"T_f7c69a92_0ee2_11ea_ba55_e372d8f615bbrow5_col7\" class=\"data row5 col7\" >0.0465719</td>\n",
       "                        <td id=\"T_f7c69a92_0ee2_11ea_ba55_e372d8f615bbrow5_col8\" class=\"data row5 col8\" >0.284114</td>\n",
       "            </tr>\n",
       "            <tr>\n",
       "                        <th id=\"T_f7c69a92_0ee2_11ea_ba55_e372d8f615bblevel0_row6\" class=\"row_heading level0 row6\" >DiabetesPedigreeFunction</th>\n",
       "                        <td id=\"T_f7c69a92_0ee2_11ea_ba55_e372d8f615bbrow6_col0\" class=\"data row6 col0\" >-0.0486919</td>\n",
       "                        <td id=\"T_f7c69a92_0ee2_11ea_ba55_e372d8f615bbrow6_col1\" class=\"data row6 col1\" >0.140501</td>\n",
       "                        <td id=\"T_f7c69a92_0ee2_11ea_ba55_e372d8f615bbrow6_col2\" class=\"data row6 col2\" >0.0742781</td>\n",
       "                        <td id=\"T_f7c69a92_0ee2_11ea_ba55_e372d8f615bbrow6_col3\" class=\"data row6 col3\" >0.194502</td>\n",
       "                        <td id=\"T_f7c69a92_0ee2_11ea_ba55_e372d8f615bbrow6_col4\" class=\"data row6 col4\" >0.198996</td>\n",
       "                        <td id=\"T_f7c69a92_0ee2_11ea_ba55_e372d8f615bbrow6_col5\" class=\"data row6 col5\" >0.175405</td>\n",
       "                        <td id=\"T_f7c69a92_0ee2_11ea_ba55_e372d8f615bbrow6_col6\" class=\"data row6 col6\" >1</td>\n",
       "                        <td id=\"T_f7c69a92_0ee2_11ea_ba55_e372d8f615bbrow6_col7\" class=\"data row6 col7\" >0.035452</td>\n",
       "                        <td id=\"T_f7c69a92_0ee2_11ea_ba55_e372d8f615bbrow6_col8\" class=\"data row6 col8\" >0.179783</td>\n",
       "            </tr>\n",
       "            <tr>\n",
       "                        <th id=\"T_f7c69a92_0ee2_11ea_ba55_e372d8f615bblevel0_row7\" class=\"row_heading level0 row7\" >Age</th>\n",
       "                        <td id=\"T_f7c69a92_0ee2_11ea_ba55_e372d8f615bbrow7_col0\" class=\"data row7 col0\" >0.471411</td>\n",
       "                        <td id=\"T_f7c69a92_0ee2_11ea_ba55_e372d8f615bbrow7_col1\" class=\"data row7 col1\" >0.260544</td>\n",
       "                        <td id=\"T_f7c69a92_0ee2_11ea_ba55_e372d8f615bbrow7_col2\" class=\"data row7 col2\" >0.228085</td>\n",
       "                        <td id=\"T_f7c69a92_0ee2_11ea_ba55_e372d8f615bbrow7_col3\" class=\"data row7 col3\" >-0.129722</td>\n",
       "                        <td id=\"T_f7c69a92_0ee2_11ea_ba55_e372d8f615bbrow7_col4\" class=\"data row7 col4\" >-0.0521898</td>\n",
       "                        <td id=\"T_f7c69a92_0ee2_11ea_ba55_e372d8f615bbrow7_col5\" class=\"data row7 col5\" >0.0465719</td>\n",
       "                        <td id=\"T_f7c69a92_0ee2_11ea_ba55_e372d8f615bbrow7_col6\" class=\"data row7 col6\" >0.035452</td>\n",
       "                        <td id=\"T_f7c69a92_0ee2_11ea_ba55_e372d8f615bbrow7_col7\" class=\"data row7 col7\" >1</td>\n",
       "                        <td id=\"T_f7c69a92_0ee2_11ea_ba55_e372d8f615bbrow7_col8\" class=\"data row7 col8\" >0.214231</td>\n",
       "            </tr>\n",
       "            <tr>\n",
       "                        <th id=\"T_f7c69a92_0ee2_11ea_ba55_e372d8f615bblevel0_row8\" class=\"row_heading level0 row8\" >Outcome</th>\n",
       "                        <td id=\"T_f7c69a92_0ee2_11ea_ba55_e372d8f615bbrow8_col0\" class=\"data row8 col0\" >0.175373</td>\n",
       "                        <td id=\"T_f7c69a92_0ee2_11ea_ba55_e372d8f615bbrow8_col1\" class=\"data row8 col1\" >0.45074</td>\n",
       "                        <td id=\"T_f7c69a92_0ee2_11ea_ba55_e372d8f615bbrow8_col2\" class=\"data row8 col2\" >0.0583633</td>\n",
       "                        <td id=\"T_f7c69a92_0ee2_11ea_ba55_e372d8f615bbrow8_col3\" class=\"data row8 col3\" >0.0847827</td>\n",
       "                        <td id=\"T_f7c69a92_0ee2_11ea_ba55_e372d8f615bbrow8_col4\" class=\"data row8 col4\" >0.123601</td>\n",
       "                        <td id=\"T_f7c69a92_0ee2_11ea_ba55_e372d8f615bbrow8_col5\" class=\"data row8 col5\" >0.284114</td>\n",
       "                        <td id=\"T_f7c69a92_0ee2_11ea_ba55_e372d8f615bbrow8_col6\" class=\"data row8 col6\" >0.179783</td>\n",
       "                        <td id=\"T_f7c69a92_0ee2_11ea_ba55_e372d8f615bbrow8_col7\" class=\"data row8 col7\" >0.214231</td>\n",
       "                        <td id=\"T_f7c69a92_0ee2_11ea_ba55_e372d8f615bbrow8_col8\" class=\"data row8 col8\" >1</td>\n",
       "            </tr>\n",
       "    </tbody></table>"
      ],
      "text/plain": [
       "<pandas.io.formats.style.Styler at 0x7f8e4f4df0b8>"
      ]
     },
     "execution_count": 5,
     "metadata": {},
     "output_type": "execute_result"
    }
   ],
   "source": [
    "corr1=hel_data.corr()\n",
    "corr1.style.background_gradient(cmap='coolwarm')"
   ]
  },
  {
   "cell_type": "code",
   "execution_count": 6,
   "metadata": {},
   "outputs": [
    {
     "data": {
      "text/plain": [
       "Pregnancies                 0\n",
       "Glucose                     0\n",
       "BloodPressure               0\n",
       "SkinThickness               0\n",
       "Insulin                     0\n",
       "BMI                         0\n",
       "DiabetesPedigreeFunction    0\n",
       "Age                         0\n",
       "Outcome                     0\n",
       "dtype: int64"
      ]
     },
     "execution_count": 6,
     "metadata": {},
     "output_type": "execute_result"
    }
   ],
   "source": [
    "hel_data.isnull().sum()"
   ]
  },
  {
   "cell_type": "code",
   "execution_count": 7,
   "metadata": {},
   "outputs": [
    {
     "data": {
      "image/png": "[encoded data removed]",
      "text/plain": [
       "<Figure size 1080x720 with 9 Axes>"
      ]
     },
     "metadata": {
      "needs_background": "light"
     },
     "output_type": "display_data"
    }
   ],
   "source": [
    "hel_data.hist(figsize=(15,10),bins=15)\n",
    "plt.show()"
   ]
  },
  {
   "cell_type": "markdown",
   "metadata": {},
   "source": [
    "# Above histograms shows that there are outliers ,we can use the box plot to get more insights about it"
   ]
  },
  {
   "cell_type": "code",
   "execution_count": 8,
   "metadata": {},
   "outputs": [
    {
     "data": {
      "image/png": "[encoded data removed]",
      "text/plain": [
       "<Figure size 1080x720 with 1 Axes>"
      ]
     },
     "metadata": {
      "needs_background": "light"
     },
     "output_type": "display_data"
    }
   ],
   "source": [
    "p1=hel_data.drop(axis=1,labels=\"Insulin\")\n",
    "p1.boxplot(figsize=(15,10))\n",
    "\n",
    "plt.show()"
   ]
  },
  {
   "cell_type": "markdown",
   "metadata": {},
   "source": [
    "# Data cleaning"
   ]
  },
  {
   "cell_type": "markdown",
   "metadata": {},
   "source": [
    "Above box plot shows many outliers, which are dealt as shown below"
   ]
  },
  {
   "cell_type": "code",
   "execution_count": 9,
   "metadata": {},
   "outputs": [
    {
     "data": {
      "text/html": [
       "<div>\n",
       "<style scoped>\n",
       "    .dataframe tbody tr th:only-of-type {\n",
       "        vertical-align: middle;\n",
       "    }\n",
       "\n",
       "    .dataframe tbody tr th {\n",
       "        vertical-align: top;\n",
       "    }\n",
       "\n",
       "    .dataframe thead th {\n",
       "        text-align: right;\n",
       "    }\n",
       "</style>\n",
       "<table border=\"1\" class=\"dataframe\">\n",
       "  <thead>\n",
       "    <tr style=\"text-align: right;\">\n",
       "      <th></th>\n",
       "      <th>Pregnancies</th>\n",
       "      <th>Glucose</th>\n",
       "      <th>BloodPressure</th>\n",
       "      <th>SkinThickness</th>\n",
       "      <th>Insulin</th>\n",
       "      <th>BMI</th>\n",
       "      <th>DiabetesPedigreeFunction</th>\n",
       "      <th>Age</th>\n",
       "      <th>Outcome</th>\n",
       "    </tr>\n",
       "  </thead>\n",
       "  <tbody>\n",
       "    <tr>\n",
       "      <td>650</td>\n",
       "      <td>-4.448934</td>\n",
       "      <td>91.0</td>\n",
       "      <td>54.0</td>\n",
       "      <td>25.0</td>\n",
       "      <td>100.0</td>\n",
       "      <td>25.2</td>\n",
       "      <td>0.234</td>\n",
       "      <td>23.0</td>\n",
       "      <td>0</td>\n",
       "    </tr>\n",
       "    <tr>\n",
       "      <td>666</td>\n",
       "      <td>-4.798118</td>\n",
       "      <td>145.0</td>\n",
       "      <td>82.0</td>\n",
       "      <td>18.0</td>\n",
       "      <td>0.0</td>\n",
       "      <td>32.5</td>\n",
       "      <td>0.235</td>\n",
       "      <td>70.0</td>\n",
       "      <td>1</td>\n",
       "    </tr>\n",
       "  </tbody>\n",
       "</table>\n",
       "</div>"
      ],
      "text/plain": [
       "     Pregnancies  Glucose  BloodPressure  SkinThickness  Insulin   BMI  \\\n",
       "650    -4.448934     91.0           54.0           25.0    100.0  25.2   \n",
       "666    -4.798118    145.0           82.0           18.0      0.0  32.5   \n",
       "\n",
       "     DiabetesPedigreeFunction   Age  Outcome  \n",
       "650                     0.234  23.0        0  \n",
       "666                     0.235  70.0        1  "
      ]
     },
     "execution_count": 9,
     "metadata": {},
     "output_type": "execute_result"
    }
   ],
   "source": [
    "hel_data[hel_data.Pregnancies<0]"
   ]
  },
  {
   "cell_type": "markdown",
   "metadata": {},
   "source": [
    "Dropping these rows since the values provided in the column of Pregnancies are negative "
   ]
  },
  {
   "cell_type": "code",
   "execution_count": 10,
   "metadata": {},
   "outputs": [
    {
     "ename": "KeyError",
     "evalue": "'[738] not found in axis'",
     "output_type": "error",
     "traceback": [
      "\u001b[0;31m---------------------------------------------------------------------------\u001b[0m",
      "\u001b[0;31mKeyError\u001b[0m                                  Traceback (most recent call last)",
      "\u001b[0;32m<ipython-input-10-ce245e8c0c67>\u001b[0m in \u001b[0;36m<module>\u001b[0;34m\u001b[0m\n\u001b[0;32m----> 1\u001b[0;31m \u001b[0mp1\u001b[0m\u001b[0;34m=\u001b[0m\u001b[0mhel_data\u001b[0m\u001b[0;34m.\u001b[0m\u001b[0mdrop\u001b[0m\u001b[0;34m(\u001b[0m\u001b[0maxis\u001b[0m\u001b[0;34m=\u001b[0m\u001b[0;36m0\u001b[0m\u001b[0;34m,\u001b[0m\u001b[0mlabels\u001b[0m\u001b[0;34m=\u001b[0m\u001b[0;34m{\u001b[0m\u001b[0;36m650\u001b[0m\u001b[0;34m,\u001b[0m\u001b[0;36m666\u001b[0m\u001b[0;34m,\u001b[0m\u001b[0;36m738\u001b[0m\u001b[0;34m}\u001b[0m\u001b[0;34m)\u001b[0m\u001b[0;34m\u001b[0m\u001b[0;34m\u001b[0m\u001b[0m\n\u001b[0m",
      "\u001b[0;32m~/anaconda3/lib/python3.7/site-packages/pandas/core/frame.py\u001b[0m in \u001b[0;36mdrop\u001b[0;34m(self, labels, axis, index, columns, level, inplace, errors)\u001b[0m\n\u001b[1;32m   4100\u001b[0m             \u001b[0mlevel\u001b[0m\u001b[0;34m=\u001b[0m\u001b[0mlevel\u001b[0m\u001b[0;34m,\u001b[0m\u001b[0;34m\u001b[0m\u001b[0;34m\u001b[0m\u001b[0m\n\u001b[1;32m   4101\u001b[0m             \u001b[0minplace\u001b[0m\u001b[0;34m=\u001b[0m\u001b[0minplace\u001b[0m\u001b[0;34m,\u001b[0m\u001b[0;34m\u001b[0m\u001b[0;34m\u001b[0m\u001b[0m\n\u001b[0;32m-> 4102\u001b[0;31m             \u001b[0merrors\u001b[0m\u001b[0;34m=\u001b[0m\u001b[0merrors\u001b[0m\u001b[0;34m,\u001b[0m\u001b[0;34m\u001b[0m\u001b[0;34m\u001b[0m\u001b[0m\n\u001b[0m\u001b[1;32m   4103\u001b[0m         )\n\u001b[1;32m   4104\u001b[0m \u001b[0;34m\u001b[0m\u001b[0m\n",
      "\u001b[0;32m~/anaconda3/lib/python3.7/site-packages/pandas/core/generic.py\u001b[0m in \u001b[0;36mdrop\u001b[0;34m(self, labels, axis, index, columns, level, inplace, errors)\u001b[0m\n\u001b[1;32m   3912\u001b[0m         \u001b[0;32mfor\u001b[0m \u001b[0maxis\u001b[0m\u001b[0;34m,\u001b[0m \u001b[0mlabels\u001b[0m \u001b[0;32min\u001b[0m \u001b[0maxes\u001b[0m\u001b[0;34m.\u001b[0m\u001b[0mitems\u001b[0m\u001b[0;34m(\u001b[0m\u001b[0;34m)\u001b[0m\u001b[0;34m:\u001b[0m\u001b[0;34m\u001b[0m\u001b[0;34m\u001b[0m\u001b[0m\n\u001b[1;32m   3913\u001b[0m             \u001b[0;32mif\u001b[0m \u001b[0mlabels\u001b[0m \u001b[0;32mis\u001b[0m \u001b[0;32mnot\u001b[0m \u001b[0;32mNone\u001b[0m\u001b[0;34m:\u001b[0m\u001b[0;34m\u001b[0m\u001b[0;34m\u001b[0m\u001b[0m\n\u001b[0;32m-> 3914\u001b[0;31m                 \u001b[0mobj\u001b[0m \u001b[0;34m=\u001b[0m \u001b[0mobj\u001b[0m\u001b[0;34m.\u001b[0m\u001b[0m_drop_axis\u001b[0m\u001b[0;34m(\u001b[0m\u001b[0mlabels\u001b[0m\u001b[0;34m,\u001b[0m \u001b[0maxis\u001b[0m\u001b[0;34m,\u001b[0m \u001b[0mlevel\u001b[0m\u001b[0;34m=\u001b[0m\u001b[0mlevel\u001b[0m\u001b[0;34m,\u001b[0m \u001b[0merrors\u001b[0m\u001b[0;34m=\u001b[0m\u001b[0merrors\u001b[0m\u001b[0;34m)\u001b[0m\u001b[0;34m\u001b[0m\u001b[0;34m\u001b[0m\u001b[0m\n\u001b[0m\u001b[1;32m   3915\u001b[0m \u001b[0;34m\u001b[0m\u001b[0m\n\u001b[1;32m   3916\u001b[0m         \u001b[0;32mif\u001b[0m \u001b[0minplace\u001b[0m\u001b[0;34m:\u001b[0m\u001b[0;34m\u001b[0m\u001b[0;34m\u001b[0m\u001b[0m\n",
      "\u001b[0;32m~/anaconda3/lib/python3.7/site-packages/pandas/core/generic.py\u001b[0m in \u001b[0;36m_drop_axis\u001b[0;34m(self, labels, axis, level, errors)\u001b[0m\n\u001b[1;32m   3944\u001b[0m                 \u001b[0mnew_axis\u001b[0m \u001b[0;34m=\u001b[0m \u001b[0maxis\u001b[0m\u001b[0;34m.\u001b[0m\u001b[0mdrop\u001b[0m\u001b[0;34m(\u001b[0m\u001b[0mlabels\u001b[0m\u001b[0;34m,\u001b[0m \u001b[0mlevel\u001b[0m\u001b[0;34m=\u001b[0m\u001b[0mlevel\u001b[0m\u001b[0;34m,\u001b[0m \u001b[0merrors\u001b[0m\u001b[0;34m=\u001b[0m\u001b[0merrors\u001b[0m\u001b[0;34m)\u001b[0m\u001b[0;34m\u001b[0m\u001b[0;34m\u001b[0m\u001b[0m\n\u001b[1;32m   3945\u001b[0m             \u001b[0;32melse\u001b[0m\u001b[0;34m:\u001b[0m\u001b[0;34m\u001b[0m\u001b[0;34m\u001b[0m\u001b[0m\n\u001b[0;32m-> 3946\u001b[0;31m                 \u001b[0mnew_axis\u001b[0m \u001b[0;34m=\u001b[0m \u001b[0maxis\u001b[0m\u001b[0;34m.\u001b[0m\u001b[0mdrop\u001b[0m\u001b[0;34m(\u001b[0m\u001b[0mlabels\u001b[0m\u001b[0;34m,\u001b[0m \u001b[0merrors\u001b[0m\u001b[0;34m=\u001b[0m\u001b[0merrors\u001b[0m\u001b[0;34m)\u001b[0m\u001b[0;34m\u001b[0m\u001b[0;34m\u001b[0m\u001b[0m\n\u001b[0m\u001b[1;32m   3947\u001b[0m             \u001b[0mresult\u001b[0m \u001b[0;34m=\u001b[0m \u001b[0mself\u001b[0m\u001b[0;34m.\u001b[0m\u001b[0mreindex\u001b[0m\u001b[0;34m(\u001b[0m\u001b[0;34m**\u001b[0m\u001b[0;34m{\u001b[0m\u001b[0maxis_name\u001b[0m\u001b[0;34m:\u001b[0m \u001b[0mnew_axis\u001b[0m\u001b[0;34m}\u001b[0m\u001b[0;34m)\u001b[0m\u001b[0;34m\u001b[0m\u001b[0;34m\u001b[0m\u001b[0m\n\u001b[1;32m   3948\u001b[0m \u001b[0;34m\u001b[0m\u001b[0m\n",
      "\u001b[0;32m~/anaconda3/lib/python3.7/site-packages/pandas/core/indexes/base.py\u001b[0m in \u001b[0;36mdrop\u001b[0;34m(self, labels, errors)\u001b[0m\n\u001b[1;32m   5338\u001b[0m         \u001b[0;32mif\u001b[0m \u001b[0mmask\u001b[0m\u001b[0;34m.\u001b[0m\u001b[0many\u001b[0m\u001b[0;34m(\u001b[0m\u001b[0;34m)\u001b[0m\u001b[0;34m:\u001b[0m\u001b[0;34m\u001b[0m\u001b[0;34m\u001b[0m\u001b[0m\n\u001b[1;32m   5339\u001b[0m             \u001b[0;32mif\u001b[0m \u001b[0merrors\u001b[0m \u001b[0;34m!=\u001b[0m \u001b[0;34m\"ignore\"\u001b[0m\u001b[0;34m:\u001b[0m\u001b[0;34m\u001b[0m\u001b[0;34m\u001b[0m\u001b[0m\n\u001b[0;32m-> 5340\u001b[0;31m                 \u001b[0;32mraise\u001b[0m \u001b[0mKeyError\u001b[0m\u001b[0;34m(\u001b[0m\u001b[0;34m\"{} not found in axis\"\u001b[0m\u001b[0;34m.\u001b[0m\u001b[0mformat\u001b[0m\u001b[0;34m(\u001b[0m\u001b[0mlabels\u001b[0m\u001b[0;34m[\u001b[0m\u001b[0mmask\u001b[0m\u001b[0;34m]\u001b[0m\u001b[0;34m)\u001b[0m\u001b[0;34m)\u001b[0m\u001b[0;34m\u001b[0m\u001b[0;34m\u001b[0m\u001b[0m\n\u001b[0m\u001b[1;32m   5341\u001b[0m             \u001b[0mindexer\u001b[0m \u001b[0;34m=\u001b[0m \u001b[0mindexer\u001b[0m\u001b[0;34m[\u001b[0m\u001b[0;34m~\u001b[0m\u001b[0mmask\u001b[0m\u001b[0;34m]\u001b[0m\u001b[0;34m\u001b[0m\u001b[0;34m\u001b[0m\u001b[0m\n\u001b[1;32m   5342\u001b[0m         \u001b[0;32mreturn\u001b[0m \u001b[0mself\u001b[0m\u001b[0;34m.\u001b[0m\u001b[0mdelete\u001b[0m\u001b[0;34m(\u001b[0m\u001b[0mindexer\u001b[0m\u001b[0;34m)\u001b[0m\u001b[0;34m\u001b[0m\u001b[0;34m\u001b[0m\u001b[0m\n",
      "\u001b[0;31mKeyError\u001b[0m: '[738] not found in axis'"
     ]
    }
   ],
   "source": [
    "p1=hel_data.drop(axis=0,labels={650,666,738})"
   ]
  },
  {
   "cell_type": "markdown",
   "metadata": {},
   "source": [
    "Replacing the null values in Pregnancies columns with median value to keep the uniformity of the data"
   ]
  },
  {
   "cell_type": "code",
   "execution_count": null,
   "metadata": {},
   "outputs": [],
   "source": [
    "p1.Pregnancies.fillna(p1.Pregnancies.median(),inplace=True)"
   ]
  },
  {
   "cell_type": "markdown",
   "metadata": {},
   "source": [
    "After replacing the Glucose null values using 140. This 140 is world average but its changing the covarience wayy too much to \n",
    "effect the model. So we tried to replcae it with the mean of the given data set which perfectly fits with our given data set \n"
   ]
  },
  {
   "cell_type": "code",
   "execution_count": null,
   "metadata": {},
   "outputs": [],
   "source": [
    "p1.Glucose.fillna(p1.Glucose.mean(),inplace=True)"
   ]
  },
  {
   "cell_type": "code",
   "execution_count": null,
   "metadata": {},
   "outputs": [],
   "source": [
    "p3=p1.copy()"
   ]
  },
  {
   "cell_type": "markdown",
   "metadata": {},
   "source": [
    "Testing that the zero values of glucose to be replaced by the mean or median"
   ]
  },
  {
   "cell_type": "code",
   "execution_count": null,
   "metadata": {},
   "outputs": [],
   "source": [
    "p3.Glucose.replace(0,p3.Glucose.median(),inplace=True)"
   ]
  },
  {
   "cell_type": "markdown",
   "metadata": {},
   "source": [
    "Replacing it with mean effects the corrrelation so it is not done, we have to replace it with median without \n",
    "effecting our correlation"
   ]
  },
  {
   "cell_type": "markdown",
   "metadata": {},
   "source": [
    "BMI has 11 NULL values, So replacing it with mean"
   ]
  },
  {
   "cell_type": "code",
   "execution_count": null,
   "metadata": {},
   "outputs": [],
   "source": [
    "p3.BMI.fillna(p3.BMI.mean(),inplace=True)"
   ]
  },
  {
   "cell_type": "markdown",
   "metadata": {},
   "source": [
    "Filling null values in age with the mean "
   ]
  },
  {
   "cell_type": "code",
   "execution_count": null,
   "metadata": {},
   "outputs": [],
   "source": [
    "p3.Age.fillna(p3.Age.mean(),inplace=True)"
   ]
  },
  {
   "cell_type": "markdown",
   "metadata": {},
   "source": [
    "Dropping the rows which contain the negative values of BMI"
   ]
  },
  {
   "cell_type": "code",
   "execution_count": null,
   "metadata": {},
   "outputs": [],
   "source": [
    "p3=p3.drop(axis=0,labels={60,71,489,615})"
   ]
  },
  {
   "cell_type": "markdown",
   "metadata": {},
   "source": [
    "Blood pressure can't be below 20, so there might be some error in data collection but dropping these 35 rows will\n",
    "effect the model so we use the random to randomly redistribute this data in the range of 10% of it's mean"
   ]
  },
  {
   "cell_type": "code",
   "execution_count": null,
   "metadata": {},
   "outputs": [],
   "source": [
    "p3[p3.BloodPressure<20].count()"
   ]
  },
  {
   "cell_type": "code",
   "execution_count": null,
   "metadata": {},
   "outputs": [],
   "source": [
    "p3.BloodPressure = np.where(p3['BloodPressure'].between(-10,20),random.randint(60,75),p3.BloodPressure)"
   ]
  },
  {
   "cell_type": "code",
   "execution_count": null,
   "metadata": {},
   "outputs": [],
   "source": [
    "#dropping the skin thickness outliers\n",
    "p3=p3.drop(axis=0,labels={445,578,579})"
   ]
  },
  {
   "cell_type": "markdown",
   "metadata": {},
   "source": [
    "Replacing the 0 values in skin thickness with Null and then doing and interpolation technique to fill them.\n",
    "Replacing the zero values of BMI with it's mean because BMI can't be zero and it is one of the relevant feature"
   ]
  },
  {
   "cell_type": "code",
   "execution_count": null,
   "metadata": {},
   "outputs": [],
   "source": [
    "p3.SkinThickness = np.where(p3['SkinThickness'].between(-30,-1),random.randint(18,22),p3.SkinThickness)\n",
    "p3.SkinThickness.replace(0,np.NaN,inplace=True)\n",
    "p3.BMI.replace(0,p3.BMI.mean(),inplace=True)\n",
    "p3.BMI.interpolate(method='linear',limit_direction='forward',inplace=True)\n",
    "p3.SkinThickness.interpolate(method='linear',limit_direction='forward',inplace=True)\n",
    "p3.SkinThickness.fillna(p3.SkinThickness.mean(),inplace=True)"
   ]
  },
  {
   "cell_type": "markdown",
   "metadata": {},
   "source": [
    "There is more than 350 zero values in insulin but with some domain knowledge it seen that the Diabates depand on the \n",
    "insulin level so we have to find a technique to fill the zero values, in order to do this again interpolation is used.\n",
    "But since it the most relevant feature according to medical knowledge, finding the best fit among the methods (cubic, polynomial, quadratic, the best correlation) among all these is the quadratic one."
   ]
  },
  {
   "cell_type": "code",
   "execution_count": null,
   "metadata": {},
   "outputs": [],
   "source": [
    "p3.Insulin.replace(0,np.NaN,inplace=True)\n",
    "p3.interpolate(method='quadratic',limit_direction='forward',inplace=True)\n",
    "p3.Insulin.fillna(p3.Insulin.mean(),inplace=True)"
   ]
  },
  {
   "cell_type": "markdown",
   "metadata": {},
   "source": [
    "# Finally checking the cleaned data and selecting the best features to use in the model. "
   ]
  },
  {
   "cell_type": "code",
   "execution_count": null,
   "metadata": {},
   "outputs": [],
   "source": [
    "corr=p3.corr()\n",
    "corr.style.background_gradient(cmap='coolwarm')"
   ]
  },
  {
   "cell_type": "code",
   "execution_count": null,
   "metadata": {},
   "outputs": [],
   "source": [
    "p3.hist(figsize=(15,10),bins=15)\n",
    "plt.show()"
   ]
  },
  {
   "cell_type": "markdown",
   "metadata": {},
   "source": [
    "Selecting only the relevant features for the model which have high correlation with Output"
   ]
  },
  {
   "cell_type": "markdown",
   "metadata": {},
   "source": [
    "# Finally using the Logistic regression model for the given dataset "
   ]
  },
  {
   "cell_type": "markdown",
   "metadata": {},
   "source": [
    "Splitting data in 80:20 for training and test "
   ]
  },
  {
   "cell_type": "code",
   "execution_count": null,
   "metadata": {},
   "outputs": [],
   "source": [
    "data=p3.loc[:,['Glucose','BMI','SkinThickness','Age','Insulin','DiabetesPedigreeFunction']]\n",
    "data.head()\n",
    "target=p3.iloc[:,8:9]\n",
    "target.head()\n",
    "xTrain, xTest, yTrain ,yTest=train_test_split(data, target, test_size = 0.2,random_state = 4)"
   ]
  },
  {
   "cell_type": "code",
   "execution_count": null,
   "metadata": {},
   "outputs": [],
   "source": [
    "from sklearn.linear_model import LogisticRegression"
   ]
  },
  {
   "cell_type": "markdown",
   "metadata": {},
   "source": [
    "Selecting Regularisation parameter to 0.5 and setting the weights to balanced"
   ]
  },
  {
   "cell_type": "code",
   "execution_count": null,
   "metadata": {},
   "outputs": [],
   "source": [
    "#make an instance \n",
    "logistic_regression= LogisticRegression(C=0.5,class_weight='balanced')\n",
    "logistic_regression.fit(xTrain,yTrain)"
   ]
  },
  {
   "cell_type": "code",
   "execution_count": null,
   "metadata": {},
   "outputs": [],
   "source": [
    "score=logistic_regression.score(xTest,yTest)"
   ]
  },
  {
   "cell_type": "markdown",
   "metadata": {},
   "source": [
    "Accuracy of my model is: (number of correct guesses)/(Total samples)"
   ]
  },
  {
   "cell_type": "code",
   "execution_count": null,
   "metadata": {},
   "outputs": [],
   "source": [
    "score"
   ]
  }
 ],
 "metadata": {
  "kernelspec": {
   "display_name": "Python 3",
   "language": "python",
   "name": "python3"
  },
  "language_info": {
   "codemirror_mode": {
    "name": "ipython",
    "version": 3
   },
   "file_extension": ".py",
   "mimetype": "text/x-python",
   "name": "python",
   "nbconvert_exporter": "python",
   "pygments_lexer": "ipython3",
   "version": "3.7.3"
  }
 },
 "nbformat": 4,
 "nbformat_minor": 2
}
